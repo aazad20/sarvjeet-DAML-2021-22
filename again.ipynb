{
 "cells": [
  {
   "cell_type": "markdown",
   "metadata": {},
   "source": [
    "# Sarvjeet Singh\n",
    "# 1900320120045\n",
    "# Computer Science"
   ]
  },
  {
   "cell_type": "markdown",
   "metadata": {},
   "source": [
    "# Write a Rectangle class in Python language, allowing you to build a rectangle with length and width attributes.\n",
    "\n",
    "### Create a Perimeter() method to calculate the perimeter of the rectangle and a Area() method to calculate the area of the rectangle. Create a method display() that display the length, width, perimeter and area of an object created using an instantiation on rectangle class. Create a Parallelepipede child class inheriting from the Rectangle class and with a height attribute and another Volume() method to calculate the volume of the Parallelepiped."
   ]
  },
  {
   "cell_type": "code",
   "execution_count": 13,
   "metadata": {},
   "outputs": [
    {
     "name": "stdout",
     "output_type": "stream",
     "text": [
      "Length is :7\n",
      "Breadth is : 5\n",
      "Area is:  35\n",
      "Perimeter is: 24\n",
      "----------------------------------\n",
      "the volume of myParallelepipede is:  70\n"
     ]
    }
   ],
   "source": [
    "class Rectangle():\n",
    "    def __init__(self,l,b):\n",
    "        self.l=l\n",
    "        self.b=b\n",
    "    def perimeter(self):\n",
    "        return 2*(self.l+self.b)\n",
    "    def area(self):\n",
    "        return self.l*self.b\n",
    "    \n",
    "    def display(self):\n",
    "        print(f\"Length is :{self.l}\")\n",
    "        print(f\"Breadth is : {self.b}\")\n",
    "        print(\"Area is: \",self.area())\n",
    "        print(\"Perimeter is:\" ,self.perimeter())\n",
    "class Parallelpiped(Rectangle):\n",
    "    def __init__(self,l,b,h):\n",
    "        Rectangle.__init__(self,l,b)\n",
    "        self.h=h\n",
    "    def Volume(self):\n",
    "        return self.l*self.b*self.h\n",
    "    def dispaly(self):\n",
    "        print(\"Volume of parallelpipd is: \",self.Volume())\n",
    "\n",
    "myRectangle = Rectangle(7 , 5)\n",
    "myRectangle.display()\n",
    "print(\"----------------------------------\")\n",
    "myParallelepipede = Parallelpiped(7 , 5 , 2)\n",
    "print(\"the volume of myParallelepipede is: \" , myParallelepipede.Volume())\n",
    "            \n",
    "    \n",
    "        "
   ]
  },
  {
   "cell_type": "markdown",
   "metadata": {},
   "source": [
    "# Create a Python class Person with attributes: name and age of type string.\n",
    "\n",
    "## Create a display() method that displays the name and age of an object created via the Person class. Create a child class Student which inherits from the Person class and which also has a section attribute. Create a method displayStudent() that displays the name, age and section of an object created via the Student class. Create a student object via an instantiation on the Student class and then test the displayStudent method."
   ]
  },
  {
   "cell_type": "code",
   "execution_count": 16,
   "metadata": {},
   "outputs": [
    {
     "name": "stdout",
     "output_type": "stream",
     "text": [
      "Name of person is Tomas Wild\n",
      "Age is : 37\n",
      "-------------------------------\n",
      "Name of Student is Albert\n",
      "Age of Student is : 23\n",
      "Section of Student is: Mathematics\n"
     ]
    }
   ],
   "source": [
    "class Person():\n",
    "    def __init__(self,n,a):\n",
    "        self.n=n\n",
    "        self.a=a\n",
    "    def display(self):\n",
    "        print(f\"Name of person is {self.n}\")\n",
    "        print(f\"Age is : {self.a}\")\n",
    "class Student(Person):\n",
    "    def __init__(self,n,a,s):\n",
    "        Person.__init__(self,n,a)\n",
    "        self.s=s\n",
    "    def display(self):\n",
    "        print(f\"Name of Student is {self.n}\")\n",
    "        print(f\"Age of Student is : {self.a}\")\n",
    "        print(f\"Section of Student is: {self.s}\")\n",
    "P = Person(\"Tomas Wild\", 37)\n",
    "P.display()\n",
    "print(\"-------------------------------\")\n",
    "S = Student(\"Albert\", 23 , \"Mathematics\")\n",
    "S.display()\n",
    "        "
   ]
  },
  {
   "cell_type": "code",
   "execution_count": null,
   "metadata": {},
   "outputs": [],
   "source": []
  }
 ],
 "metadata": {
  "kernelspec": {
   "display_name": "Python 3",
   "language": "python",
   "name": "python3"
  },
  "language_info": {
   "codemirror_mode": {
    "name": "ipython",
    "version": 3
   },
   "file_extension": ".py",
   "mimetype": "text/x-python",
   "name": "python",
   "nbconvert_exporter": "python",
   "pygments_lexer": "ipython3",
   "version": "3.6.9"
  }
 },
 "nbformat": 4,
 "nbformat_minor": 4
}
